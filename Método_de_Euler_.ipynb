{
  "nbformat": 4,
  "nbformat_minor": 0,
  "metadata": {
    "colab": {
      "provenance": [],
      "authorship_tag": "ABX9TyN037iVdN03UKoiHIIvQAUd",
      "include_colab_link": true
    },
    "kernelspec": {
      "name": "python3",
      "display_name": "Python 3"
    },
    "language_info": {
      "name": "python"
    }
  },
  "cells": [
    {
      "cell_type": "markdown",
      "metadata": {
        "id": "view-in-github",
        "colab_type": "text"
      },
      "source": [
        "<a href=\"https://colab.research.google.com/github/PaulaDiz/LABORATORIOS/blob/main/M%C3%A9todo_de_Euler_.ipynb\" target=\"_parent\"><img src=\"https://colab.research.google.com/assets/colab-badge.svg\" alt=\"Open In Colab\"/></a>"
      ]
    },
    {
      "cell_type": "code",
      "execution_count": 1,
      "metadata": {
        "colab": {
          "base_uri": "https://localhost:8080/"
        },
        "id": "Tpkunlq6Tko1",
        "outputId": "9e4bf8f6-88f0-4b84-c212-214a4e78f938"
      },
      "outputs": [
        {
          "output_type": "stream",
          "name": "stdout",
          "text": [
            "         ti  Wi=y(ti)\n",
            "0  0.000000  0.500000\n",
            "1  0.666667  1.500000\n",
            "2  1.333333  2.870370\n",
            "3  2.000000  4.265432\n"
          ]
        }
      ],
      "source": [
        "import numpy as np\n",
        "import pandas as pd\n",
        "\n",
        "# Definición de parámetros\n",
        "a = 0\n",
        "b = 2\n",
        "y0 = 0.5\n",
        "N = 3\n",
        "W = np.zeros(N+1)\n",
        "W[0] = y0\n",
        "h = (b - a) / N\n",
        "\n",
        "# Definición de la función\n",
        "def fun(t, y):\n",
        "    return y - (t**2) + 1\n",
        "\n",
        "# Inicialización del vector de tiempo\n",
        "tt = np.zeros(N+1)\n",
        "tt[0] = a\n",
        "\n",
        "# Rellenar el vector de tiempo\n",
        "for i in range(1, N+1):\n",
        "    tt[i] = a + (i * h)\n",
        "\n",
        "# Calcular los valores de W\n",
        "for i in range(1, N+1):\n",
        "    W[i] = W[i-1] + h * fun(tt[i-1], W[i-1])\n",
        "\n",
        "# Crear la tabla con pandas\n",
        "data = {\n",
        "    'ti': tt,\n",
        "    'Wi=y(ti)': W\n",
        "}\n",
        "T = pd.DataFrame(data)\n",
        "\n",
        "# Mostrar la tabla\n",
        "print(T)\n"
      ]
    }
  ]
}